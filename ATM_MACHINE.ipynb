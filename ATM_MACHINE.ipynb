{
 "cells": [
  {
   "cell_type": "code",
   "execution_count": 28,
   "id": "2139d62d",
   "metadata": {},
   "outputs": [
    {
     "name": "stdout",
     "output_type": "stream",
     "text": [
      "Welcome to XYZ Bank ATM\n",
      "Please Enter Your 4 Digit PIN : 1235\n",
      "Invalid PIN ....\n",
      " Please Try Again...\n",
      "Please Enter Your 4 Digit PIN : 1234\n",
      "Please Choose The Option Number\n",
      "1 . Check Balance \n",
      " 2 . Withdrawal  \n",
      " 3 . Pay\n",
      "Enter Your Option : 2\n",
      "Note : Your Maximum Withdrawal Limit is 10000\n",
      "Please Enter Your Withdrawal Amount in Multiples of 100\n",
      "Enter Your Amount : 5000\n",
      "Your Balance is Now :  5000\n",
      "Thank You For Visiting XYZ ATM\n"
     ]
    }
   ],
   "source": [
    "print(\"Welcome to XYZ Bank ATM\")\n",
    "\n",
    "#PIN Checking\n",
    "chances = 3\n",
    "balance=10000\n",
    "\n",
    "while chances>=0:\n",
    "    pin=int(input(\"Please Enter Your 4 Digit PIN : \"))\n",
    "    if pin==1234:\n",
    "        print(\"Please Choose The Option Number\")\n",
    "        print(\"1 . Check Balance \\n 2 . Withdrawal  \\n 3 . Pay\")\n",
    "        option=int(input(\"Enter Your Option : \"))\n",
    "        if option ==1:\n",
    "            print(\"Your Balance is :\",balance)\n",
    "            print(\"Thank You For Visiting XYZ ATM\")\n",
    "            break\n",
    "        elif option==2:\n",
    "                print(\"Note : Your Maximum Withdrawal Limit is 10000\")\n",
    "                print(\"Please Enter Your Withdrawal Amount in Multiples of 100\")\n",
    "                withdrawal=int(input(\"Enter Your Amount : \"))\n",
    "                if withdrawal > 10000 or withdrawal >balance:\n",
    "                        print(\"You Cannot Do This Withdrawal\")\n",
    "                        print(\"Note : Your Maximum Withdrawal Limit is 10000\")\n",
    "                        print(\"Your Balance is : \",balance)\n",
    "                        break\n",
    "                \n",
    "                elif withdrawal in[10000,9000,8000,7000,6000,5000,4000,3000,2000,1000,500,400,300,200,100]:\n",
    "                        balance=balance-withdrawal\n",
    "                        print(\"Your Balance is Now : \",balance)\n",
    "                        print(\"Thank You For Visiting XYZ ATM\")\n",
    "                        break\n",
    "                else:\n",
    "                    print(\"Please Enter the Amount in Mulitples of 100\")\n",
    "                    print(\"For Example : 100,200,1000\")\n",
    "        elif option==3:\n",
    "            pay_amt=int(input(\"Enter Deposite Amount : \"))\n",
    "            balance=balance+pay_amt\n",
    "            print(\"Your Bakance is Now : \",balance)\n",
    "            print(\"Thank You For Visiting XYZ ATM\")\n",
    "            \n",
    "        elif option==4:\n",
    "            print(\"Please wait while your card is returned...\")\n",
    "            print(\"Thank You For Visiting XYZ ATM\")\n",
    "            break\n",
    "        \n",
    "        else:\n",
    "            print(\"Please Enter The Correct Option\")\n",
    "    elif pin !=1234:\n",
    "        print(\"Invalid PIN ....\\n Please Try Again...\")\n",
    "        chances=chances-1\n",
    "        if chances==0:\n",
    "            print(\"You Have Exeed The Limit...\\n Please Try After Sometime...\")\n",
    "            break\n",
    "            \n",
    "                "
   ]
  },
  {
   "cell_type": "code",
   "execution_count": null,
   "id": "b31bc4de",
   "metadata": {},
   "outputs": [],
   "source": []
  },
  {
   "cell_type": "code",
   "execution_count": null,
   "id": "84bb787a",
   "metadata": {},
   "outputs": [],
   "source": []
  }
 ],
 "metadata": {
  "kernelspec": {
   "display_name": "Python 3 (ipykernel)",
   "language": "python",
   "name": "python3"
  },
  "language_info": {
   "codemirror_mode": {
    "name": "ipython",
    "version": 3
   },
   "file_extension": ".py",
   "mimetype": "text/x-python",
   "name": "python",
   "nbconvert_exporter": "python",
   "pygments_lexer": "ipython3",
   "version": "3.9.12"
  }
 },
 "nbformat": 4,
 "nbformat_minor": 5
}
